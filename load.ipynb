{
 "cells": [
  {
   "cell_type": "code",
   "execution_count": null,
   "metadata": {},
   "outputs": [],
   "source": [
    "import yaml\n",
    "import numpy as np\n",
    "\n",
    "from data.dataset.detection.dataset import DSECConcatDataset\n",
    "from data.data_utils.transform import RandomSpatialAugmentor"
   ]
  },
  {
   "cell_type": "code",
   "execution_count": null,
   "metadata": {},
   "outputs": [],
   "source": [
    "from torchvision import transforms\n",
    "\n",
    "with open('./scripts/preprocess/detection/config/split.yaml', 'r') as f:\n",
    "    config = yaml.safe_load(f)\n",
    "\n",
    "data_root = config['data_root']\n",
    "splits = config['splits']\n",
    "guarantee_label = config.get('guarantee_label', False)\n",
    "\n",
    "data_dir = '/Users/at/dataset/dsec-det/'\n",
    "\n",
    "augmentor = RandomSpatialAugmentor(\n",
    "    h_flip_prob=0.5,\n",
    "    rotation_prob=0.0,\n",
    "    rotation_angle_range=(-6, 6),\n",
    "    zoom_in_weight=8,\n",
    "    zoom_out_weight=2,\n",
    "    zoom_in_range=(1.0, 1.5),\n",
    "    zoom_out_range=(1.0, 1.2),\n",
    "    zoom_prob=0.0\n",
    ")\n",
    "\n",
    "dataset = DSECConcatDataset(base_data_dir=data_dir,\n",
    "                            mode='test',\n",
    "                            tau=50,\n",
    "                            delta_t=50,\n",
    "                            sequence_length=10,\n",
    "                            guarantee_label=False,\n",
    "                            transform=None,\n",
    "                            config_path='./data/dataset/detection/split.yaml')\n"
   ]
  },
  {
   "cell_type": "code",
   "execution_count": null,
   "metadata": {},
   "outputs": [],
   "source": [
    "sample = dataset[0]"
   ]
  },
  {
   "cell_type": "code",
   "execution_count": null,
   "metadata": {},
   "outputs": [],
   "source": [
    "sample['labels']"
   ]
  },
  {
   "cell_type": "code",
   "execution_count": null,
   "metadata": {},
   "outputs": [],
   "source": [
    "from torch.utils.data import DataLoader\n",
    "from data.data_utils.collate import custom_collate_fn\n",
    "data_loader = DataLoader(dataset=dataset, shuffle=True, batch_size=2, collate_fn=custom_collate_fn)"
   ]
  },
  {
   "cell_type": "code",
   "execution_count": null,
   "metadata": {},
   "outputs": [],
   "source": []
  },
  {
   "cell_type": "code",
   "execution_count": null,
   "metadata": {},
   "outputs": [],
   "source": [
    "from utils.visualize import save_sequence_as_video_dataloader\n",
    "save_sequence_as_video_dataloader(dataloader=data_loader, t_ms=50, output_file='outputs.mp4')\n"
   ]
  },
  {
   "cell_type": "code",
   "execution_count": null,
   "metadata": {},
   "outputs": [],
   "source": [
    "sample = dataset[0]"
   ]
  },
  {
   "cell_type": "code",
   "execution_count": null,
   "metadata": {},
   "outputs": [],
   "source": [
    "sample['event_frames'].shape"
   ]
  },
  {
   "cell_type": "code",
   "execution_count": null,
   "metadata": {},
   "outputs": [],
   "source": []
  }
 ],
 "metadata": {
  "kernelspec": {
   "display_name": "dsec_env",
   "language": "python",
   "name": "python3"
  },
  "language_info": {
   "codemirror_mode": {
    "name": "ipython",
    "version": 3
   },
   "file_extension": ".py",
   "mimetype": "text/x-python",
   "name": "python",
   "nbconvert_exporter": "python",
   "pygments_lexer": "ipython3",
   "version": "3.9.19"
  }
 },
 "nbformat": 4,
 "nbformat_minor": 2
}
