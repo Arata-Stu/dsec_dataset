{
 "cells": [
  {
   "cell_type": "code",
   "execution_count": 2,
   "metadata": {},
   "outputs": [],
   "source": [
    "from data.dataset.img_event.dataset import DSECEventImageDataset\n",
    "# シーケンスフォルダを指定してデータセットを初期化\n",
    "# dataset = DSECEventImageDataset(\n",
    "#     sequence_dir=\"/Users/at/dataset/DSEC/interlaken_00_b\",\n",
    "#     frame_shape=(480, 640),\n",
    "#     downsample=False\n",
    "# )\n",
    "dataset = DSECEventImageDataset(sequence_dir=\"/Users/at/dataset/DSEC/interlaken_00_b\", frame_shape=(480, 640) ,num_event_frames=5)\n",
    "\n",
    "\n"
   ]
  },
  {
   "cell_type": "code",
   "execution_count": 3,
   "metadata": {},
   "outputs": [
    {
     "ename": "KeyboardInterrupt",
     "evalue": "",
     "output_type": "error",
     "traceback": [
      "\u001b[0;31m---------------------------------------------------------------------------\u001b[0m",
      "\u001b[0;31mKeyboardInterrupt\u001b[0m                         Traceback (most recent call last)",
      "Cell \u001b[0;32mIn[3], line 31\u001b[0m\n\u001b[1;32m     29\u001b[0m \u001b[38;5;66;03m# 例: データセットから横並びの動画を作成\u001b[39;00m\n\u001b[1;32m     30\u001b[0m output_path \u001b[38;5;241m=\u001b[39m \u001b[38;5;124m\"\u001b[39m\u001b[38;5;124mevent_image_video.mp4\u001b[39m\u001b[38;5;124m\"\u001b[39m\n\u001b[0;32m---> 31\u001b[0m \u001b[43mcreate_event_image_video\u001b[49m\u001b[43m(\u001b[49m\u001b[43mdataset\u001b[49m\u001b[43m,\u001b[49m\u001b[43m \u001b[49m\u001b[43moutput_path\u001b[49m\u001b[43m)\u001b[49m\n",
      "Cell \u001b[0;32mIn[3], line 12\u001b[0m, in \u001b[0;36mcreate_event_image_video\u001b[0;34m(dataset, output_path, frame_shape, fps)\u001b[0m\n\u001b[1;32m     10\u001b[0m \u001b[38;5;28;01mtry\u001b[39;00m:\n\u001b[1;32m     11\u001b[0m     \u001b[38;5;28;01mfor\u001b[39;00m idx \u001b[38;5;129;01min\u001b[39;00m \u001b[38;5;28mrange\u001b[39m(\u001b[38;5;28mlen\u001b[39m(dataset)):\n\u001b[0;32m---> 12\u001b[0m         event_frames, image \u001b[38;5;241m=\u001b[39m \u001b[43mdataset\u001b[49m\u001b[43m[\u001b[49m\u001b[43midx\u001b[49m\u001b[43m]\u001b[49m\n\u001b[1;32m     14\u001b[0m         \u001b[38;5;66;03m# 各イベントフレームを処理\u001b[39;00m\n\u001b[1;32m     15\u001b[0m         \u001b[38;5;28;01mfor\u001b[39;00m event_frame \u001b[38;5;129;01min\u001b[39;00m event_frames:\n\u001b[1;32m     16\u001b[0m             \u001b[38;5;66;03m# OpenCV用に色空間を変換\u001b[39;00m\n",
      "File \u001b[0;32m~/Desktop/self_study/EventCamera/dsec_dataset/data/dataset/img_event/dataset.py:48\u001b[0m, in \u001b[0;36mDSECEventImageDataset.__getitem__\u001b[0;34m(self, idx)\u001b[0m\n\u001b[1;32m     45\u001b[0m start_time, end_time \u001b[38;5;241m=\u001b[39m \u001b[38;5;28mself\u001b[39m\u001b[38;5;241m.\u001b[39mtimestamps[idx]\n\u001b[1;32m     47\u001b[0m \u001b[38;5;66;03m# イベントを指定範囲でスライス\u001b[39;00m\n\u001b[0;32m---> 48\u001b[0m slice_mask \u001b[38;5;241m=\u001b[39m (\u001b[38;5;28mself\u001b[39m\u001b[38;5;241m.\u001b[39mevents[\u001b[38;5;124m'\u001b[39m\u001b[38;5;124mt\u001b[39m\u001b[38;5;124m'\u001b[39m] \u001b[38;5;241m>\u001b[39m\u001b[38;5;241m=\u001b[39m start_time) \u001b[38;5;241m&\u001b[39m (\u001b[38;5;28;43mself\u001b[39;49m\u001b[38;5;241;43m.\u001b[39;49m\u001b[43mevents\u001b[49m\u001b[43m[\u001b[49m\u001b[38;5;124;43m'\u001b[39;49m\u001b[38;5;124;43mt\u001b[39;49m\u001b[38;5;124;43m'\u001b[39;49m\u001b[43m]\u001b[49m\u001b[43m \u001b[49m\u001b[38;5;241;43m<\u001b[39;49m\u001b[43m \u001b[49m\u001b[43mend_time\u001b[49m)\n\u001b[1;32m     49\u001b[0m slice_events \u001b[38;5;241m=\u001b[39m {k: v[slice_mask] \u001b[38;5;28;01mfor\u001b[39;00m k, v \u001b[38;5;129;01min\u001b[39;00m \u001b[38;5;28mself\u001b[39m\u001b[38;5;241m.\u001b[39mevents\u001b[38;5;241m.\u001b[39mitems()}\n\u001b[1;32m     51\u001b[0m \u001b[38;5;66;03m# 範囲を分割して複数のイベントフレームを生成\u001b[39;00m\n",
      "\u001b[0;31mKeyboardInterrupt\u001b[0m: "
     ]
    }
   ],
   "source": [
    "import cv2\n",
    "import numpy as np\n",
    "\n",
    "def create_event_image_video(dataset, output_path, frame_shape=(256, 320), fps=30):\n",
    "    height, width = frame_shape\n",
    "    output_size = (width * 2, height)  # 横に2つ並べるため幅を2倍にする\n",
    "    fourcc = cv2.VideoWriter_fourcc(*'mp4v')\n",
    "    video_writer = cv2.VideoWriter(output_path, fourcc, fps, output_size)\n",
    "\n",
    "    try:\n",
    "        for idx in range(len(dataset)):\n",
    "            event_frames, image = dataset[idx]\n",
    "\n",
    "            # 各イベントフレームを処理\n",
    "            for event_frame in event_frames:\n",
    "                # OpenCV用に色空間を変換\n",
    "                event_frame_rgb = cv2.cvtColor(event_frame, cv2.COLOR_BGR2RGB)\n",
    "                image_rgb = cv2.cvtColor(image, cv2.COLOR_BGR2RGB)\n",
    "\n",
    "                # 横に連結\n",
    "                side_by_side_frame = np.concatenate((event_frame_rgb, image_rgb), axis=1)\n",
    "\n",
    "                # フレームを動画に書き込み\n",
    "                video_writer.write(side_by_side_frame)\n",
    "    finally:\n",
    "        # ビデオライターを解放\n",
    "        video_writer.release()\n",
    "\n",
    "# 例: データセットから横並びの動画を作成\n",
    "output_path = \"event_image_video.mp4\"\n",
    "create_event_image_video(dataset, output_path)\n"
   ]
  },
  {
   "cell_type": "code",
   "execution_count": null,
   "metadata": {},
   "outputs": [],
   "source": []
  }
 ],
 "metadata": {
  "kernelspec": {
   "display_name": "dsec_env",
   "language": "python",
   "name": "python3"
  },
  "language_info": {
   "codemirror_mode": {
    "name": "ipython",
    "version": 3
   },
   "file_extension": ".py",
   "mimetype": "text/x-python",
   "name": "python",
   "nbconvert_exporter": "python",
   "pygments_lexer": "ipython3",
   "version": "3.9.19"
  }
 },
 "nbformat": 4,
 "nbformat_minor": 2
}
