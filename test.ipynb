{
 "cells": [
  {
   "cell_type": "code",
   "execution_count": null,
   "metadata": {},
   "outputs": [],
   "source": [
    "from data.dataset.img_event.dataset import DSECEventImageDataset\n",
    "# シーケンスフォルダを指定してデータセットを初期化\n",
    "dataset = DSECEventImageDataset(\n",
    "    sequence_dir=\"/Users/at/dataset/DSEC/interlaken_00_b\",\n",
    "    frame_shape=(480, 640),\n",
    "    downsample=False\n",
    ")\n",
    "dataset = DSECEventImageDataset(sequence_dir=\"path/to/interlaken_00_b\", frame_shape=(480, 640) ,num_event_frames=5)\n",
    "\n",
    "\n"
   ]
  },
  {
   "cell_type": "code",
   "execution_count": null,
   "metadata": {},
   "outputs": [],
   "source": [
    "import cv2\n",
    "import numpy as np\n",
    "\n",
    "def create_side_by_side_video(dataset, output_path, frame_shape=(480, 640), fps=30):\n",
    "    # 動画の保存先、フレームサイズとビデオライターの設定\n",
    "    height, width = frame_shape\n",
    "    output_size = (width * 2, height)  # 横に2つ並べるため幅を2倍にする\n",
    "    fourcc = cv2.VideoWriter_fourcc(*'mp4v')\n",
    "    video_writer = cv2.VideoWriter(output_path, fourcc, fps, output_size)\n",
    "\n",
    "    try:\n",
    "        for i in range(len(dataset)):\n",
    "            event_frame, image = dataset[i]\n",
    "\n",
    "            # OpenCV用に色空間を変換\n",
    "            event_frame_rgb = cv2.cvtColor(event_frame, cv2.COLOR_BGR2RGB)\n",
    "            image_rgb = cv2.cvtColor(image, cv2.COLOR_BGR2RGB)\n",
    "\n",
    "            # 横に連結\n",
    "            side_by_side_frame = np.concatenate((event_frame_rgb, image_rgb), axis=1)\n",
    "\n",
    "            # フレームを動画に書き込み\n",
    "            video_writer.write(side_by_side_frame)\n",
    "    finally:\n",
    "        # ビデオライターを解放\n",
    "        video_writer.release()\n",
    "\n",
    "# 例: データセットから横並びの動画を作成\n",
    "output_path = \"side_by_side_video.mp4\"\n",
    "create_side_by_side_video(dataset, output_path)\n"
   ]
  },
  {
   "cell_type": "code",
   "execution_count": null,
   "metadata": {},
   "outputs": [],
   "source": []
  }
 ],
 "metadata": {
  "kernelspec": {
   "display_name": "dsec_env",
   "language": "python",
   "name": "python3"
  },
  "language_info": {
   "codemirror_mode": {
    "name": "ipython",
    "version": 3
   },
   "file_extension": ".py",
   "mimetype": "text/x-python",
   "name": "python",
   "nbconvert_exporter": "python",
   "pygments_lexer": "ipython3",
   "version": "3.9.19"
  }
 },
 "nbformat": 4,
 "nbformat_minor": 2
}
